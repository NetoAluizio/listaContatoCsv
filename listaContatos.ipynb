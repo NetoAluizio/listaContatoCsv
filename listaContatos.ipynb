{
 "cells": [
  {
   "cell_type": "code",
   "execution_count": 1,
   "id": "188d494f",
   "metadata": {},
   "outputs": [],
   "source": [
    "import csv"
   ]
  },
  {
   "cell_type": "code",
   "execution_count": 3,
   "id": "3fa31f6c",
   "metadata": {},
   "outputs": [
    {
     "name": "stdout",
     "output_type": "stream",
     "text": [
      "O que desejas fazer?\n",
      "1 - Cadastrar\n",
      "Qualquer Tecla - Sair\n",
      "1\n",
      "Nome? Aluizio\n",
      "Sobrenome? Neto\n",
      "E-mail? nome2@gmail.com\n",
      "Telefone? 99 88888888\n",
      "O que desejas fazer?\n",
      "1 - Cadastrar\n",
      "Qualquer Tecla - Sair\n",
      "1\n",
      "Nome? João\n",
      "Sobrenome? Sorongo\n",
      "E-mail? js@gmail.com\n",
      "Telefone? 99 77777777\n",
      "O que desejas fazer?\n",
      "1 - Cadastrar\n",
      "Qualquer Tecla - Sair\n",
      "1\n",
      "Nome? carlos\n",
      "Sobrenome? Alemida\n",
      "E-mail? ca@gmail.com\n",
      "Telefone? 99 66666666\n",
      "O que desejas fazer?\n",
      "1 - Cadastrar\n",
      "Qualquer Tecla - Sair\n",
      "d\n",
      "[['Aluizio', 'Neto', 'nome2@gmail.com', '99 88888888'], ['João', 'Sorongo', 'js@gmail.com', '99 77777777'], ['carlos', 'Alemida', 'ca@gmail.com', '99 66666666']]\n",
      "['Nome', 'Sobrenome', 'E-mail', 'Telefone']\n",
      "['Aluizio', 'Neto', 'nome2@gmail.com', '99 88888888']\n",
      "['João', 'Sorongo', 'js@gmail.com', '99 77777777']\n",
      "['carlos', 'Alemida', 'ca@gmail.com', '99 66666666']\n"
     ]
    }
   ],
   "source": [
    "header = ['Nome', 'Sobrenome', 'E-mail', 'Telefone']\n",
    "dados = []\n",
    "opt = input('O que desejas fazer?\\n1 - Cadastrar\\nQualquer Tecla - Sair\\n')\n",
    "while opt == '1':\n",
    "    nome = input('Nome? ')\n",
    "    sobrenome = input('Sobrenome? ')\n",
    "    email = input('E-mail? ')\n",
    "    fone = input('Telefone? ')\n",
    "    dados.append([nome, sobrenome, email, fone])\n",
    "    opt = input('O que desejas fazer?\\n1 - Cadastrar\\nQualquer Tecla - Sair\\n')\n",
    "\n",
    "print(dados)\n",
    "\n",
    "with open('contatos.csv', 'w', newline='') as contatos_csv:\n",
    "    writer = csv.writer(contatos_csv)\n",
    "    writer.writerow(header)\n",
    "    writer.writerows(dados)\n",
    "    \n",
    "with open('contatos.csv', 'r') as csv_contatos:\n",
    "    csv_reader = csv.reader(csv_contatos, delimiter=',')\n",
    "    for row in csv_reader:\n",
    "        print(row)\n"
   ]
  },
  {
   "cell_type": "code",
   "execution_count": null,
   "id": "ef6c6827",
   "metadata": {},
   "outputs": [],
   "source": []
  }
 ],
 "metadata": {
  "kernelspec": {
   "display_name": "Python 3",
   "language": "python",
   "name": "python3"
  },
  "language_info": {
   "codemirror_mode": {
    "name": "ipython",
    "version": 3
   },
   "file_extension": ".py",
   "mimetype": "text/x-python",
   "name": "python",
   "nbconvert_exporter": "python",
   "pygments_lexer": "ipython3",
   "version": "3.8.8"
  }
 },
 "nbformat": 4,
 "nbformat_minor": 5
}
